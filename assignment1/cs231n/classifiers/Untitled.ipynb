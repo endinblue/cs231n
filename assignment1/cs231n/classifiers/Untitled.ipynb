{
 "cells": [
  {
   "cell_type": "code",
   "execution_count": 4,
   "metadata": {},
   "outputs": [
    {
     "name": "stdout",
     "output_type": "stream",
     "text": [
      "(2, 3, 4)\n"
     ]
    }
   ],
   "source": [
    "import numpy as np\n",
    "arr = np.array([\n",
    "               \n",
    "                [\n",
    "                    [1,2,3,4],\n",
    "                    [5,6,7,8],\n",
    "                    [9,10,11,12]\n",
    "                \n",
    "                                    ],\n",
    "                \n",
    "                [\n",
    "                    [13,14,15,16],\n",
    "                    [17,18,19,20],\n",
    "                    [21,22,23,24]\n",
    "                                    ]\n",
    "               \n",
    "                ]\n",
    "                )\n",
    "\n",
    "print(arr.shape)"
   ]
  },
  {
   "cell_type": "code",
   "execution_count": null,
   "metadata": {},
   "outputs": [],
   "source": []
  }
 ],
 "metadata": {
  "kernelspec": {
   "display_name": "Python 2",
   "language": "python",
   "name": "python2"
  },
  "language_info": {
   "codemirror_mode": {
    "name": "ipython",
    "version": 2
   },
   "file_extension": ".py",
   "mimetype": "text/x-python",
   "name": "python",
   "nbconvert_exporter": "python",
   "pygments_lexer": "ipython2",
   "version": "2.7.17"
  }
 },
 "nbformat": 4,
 "nbformat_minor": 2
}
